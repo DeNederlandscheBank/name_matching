{
 "cells": [
  {
   "cell_type": "code",
   "execution_count": null,
   "metadata": {},
   "outputs": [],
   "source": [
    "import pandas as pd\n",
    "import numpy as np\n",
    "from name_matching.name_matcher import NameMatcher\n",
    "from name_matching.name_matching_optimiser import NameMatchingOptimiser"
   ]
  },
  {
   "cell_type": "markdown",
   "metadata": {},
   "source": [
    "Load some dummy data"
   ]
  },
  {
   "cell_type": "code",
   "execution_count": null,
   "metadata": {},
   "outputs": [],
   "source": [
    "adjusted_names = pd.read_csv('../test/adjusted_test_names.csv')\n",
    "test_names = pd.read_csv('../test/test_names.csv')\n",
    "display(adjusted_names.head(5))\n",
    "display(test_names.head(5))"
   ]
  },
  {
   "cell_type": "code",
   "execution_count": null,
   "metadata": {},
   "outputs": [],
   "source": [
    "nmo = NameMatchingOptimiser(test_names, 'company_name', adjusted_names, 'company_name')"
   ]
  },
  {
   "cell_type": "code",
   "execution_count": null,
   "metadata": {},
   "outputs": [],
   "source": [
    "nmo.annotate()"
   ]
  },
  {
   "cell_type": "code",
   "execution_count": null,
   "metadata": {},
   "outputs": [],
   "source": [
    "new_model = nmo.optimise()"
   ]
  },
  {
   "cell_type": "code",
   "execution_count": null,
   "metadata": {},
   "outputs": [],
   "source": [
    "nm = NameMatcher(return_algorithms_score=True)\n",
    "nm.load_and_process_master_data('company_name', test_names, transform=True)\n",
    "algorithm_scores, names = nm.match_names(adjusted_names, 'company_name')\n",
    "new_model.predict(np.stack(algorithm_scores.to_numpy()).reshape(-1, nm._num_distance_metrics))"
   ]
  },
  {
   "cell_type": "code",
   "execution_count": null,
   "metadata": {},
   "outputs": [],
   "source": []
  }
 ],
 "metadata": {
  "kernelspec": {
   "display_name": "Python 3",
   "language": "python",
   "name": "python3"
  },
  "language_info": {
   "codemirror_mode": {
    "name": "ipython",
    "version": 3
   },
   "file_extension": ".py",
   "mimetype": "text/x-python",
   "name": "python",
   "nbconvert_exporter": "python",
   "pygments_lexer": "ipython3",
   "version": "3.10.14"
  },
  "vscode": {
   "interpreter": {
    "hash": "8db41bd6fef7744b08932e845d8249a243b3ddc44edf3dd1c68df61a819e8ad4"
   }
  }
 },
 "nbformat": 4,
 "nbformat_minor": 2
}
